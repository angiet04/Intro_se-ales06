{
 "cells": [
  {
   "cell_type": "code",
   "execution_count": 26,
   "metadata": {},
   "outputs": [
    {
     "name": "stdout",
     "output_type": "stream",
     "text": [
      "Uploaded file(s) to Edge Impulse\n",
      " 200 b'{\"success\":true,\"files\":[{\"success\":true,\"projectId\":431563,\"sampleId\":1059432266,\"fileName\":\"eeg-pestaneo.txt.50rkiq71.json\"}]}'\n"
     ]
    }
   ],
   "source": [
    "import numpy as np\n",
    "import matplotlib.pyplot as plt\n",
    "import requests\n",
    "import os\n",
    "\n",
    "def procesar_datos_y_guardar_txt(archivo_entrada, archivo_salida):\n",
    "    # Leer los datos del archivo y omitir las primeras 7 líneas\n",
    "    datos = np.loadtxt(archivo_entrada, skiprows=7)\n",
    "\n",
    "    # Extraer la columna de interés (columna 6, índice 5 en Python)\n",
    "    senal = datos[:, 5]\n",
    "    \n",
    "    for dato in senal:\n",
    "        dato=float(dato)\n",
    "    \n",
    "    # Crear un vector de tiempo (asumiendo que los datos son muestreados uniformemente)\n",
    "    num_muestra = np.arange(len(senal))\n",
    "\n",
    "    # Calcular el vector de tiempo en segundos\n",
    "    fs=1000\n",
    "    tiempo = (num_muestra / fs)*1000 #ms\n",
    "    \n",
    "    # Calcular la señal en milivoltios\n",
    "    senalV = (((senal / 1024) - 0.5) * 3.3)/1009\n",
    "    senalmV = senalV*1000\n",
    "    senaluV = senalV*1000000\n",
    "    senal_para_enviar = senalmV\n",
    "\n",
    "    # Guardar tiempo y senal en un archivo TXT con encabezados y valores separados por espacios\n",
    "    \n",
    "    with open(archivo_salida, 'w') as txtfile:\n",
    "        txtfile.write(\"timestamp,accY\\n\")  # Escribir los encabezados\n",
    "        for t, s in zip(tiempo, senal_para_enviar):\n",
    "            txtfile.write(f\"{t},{s}\\n\")\n",
    "    \n",
    "def enviar_a_edgeimpulse(archivo_txt, api_key, etiqueta):\n",
    "\n",
    "    # Add the files you want to upload to Edge Impulse\n",
    "    files = [archivo_txt]\n",
    "\n",
    "    # # Replace the label with your own.\n",
    "    label =  etiqueta\n",
    "\n",
    "    # Create a list of tuples for the 'files' parameter\n",
    "    file_tuples = [('data', (os.path.basename(file), open(file, 'rb'), 'application/octet-stream')) for file in files]\n",
    "\n",
    "    # Upload the file to Edge Impulse using the API, and print the response.\n",
    "    res = requests.post(url='https://ingestion.edgeimpulse.com/api/training/files',\n",
    "                        headers={\n",
    "                            'x-label': label,\n",
    "                            'x-api-key': api_key,\n",
    "                        },\n",
    "                        # Creating the data payload for the request.\n",
    "                        files=file_tuples\n",
    "                        )\n",
    "\n",
    "    if (res.status_code == 200):\n",
    "        print('Uploaded file(s) to Edge Impulse\\n', res.status_code, res.content)\n",
    "    else:\n",
    "        print('Failed to upload file(s) to Edge Impulse\\n',\n",
    "            res.status_code, res.content)\n",
    "\n",
    "# Ejemplo de uso\n",
    "archivo_entrada = r\"C:\\ISB\\data\\cesar_pesta.txt\"\n",
    "archivo_salida = r\"C:\\ISB\\eeg-pestaneo.txt\"  # Nombre del archivo de salida en formato TXT\n",
    "api_key = 'ei_b53b7673e25c9423e64efc72588ebe09dba64bfe6c5f73a6'\n",
    "etiqueta = 'EEG pestaneando'\n",
    "\n",
    "# Procesar datos y guardar en TXT\n",
    "procesar_datos_y_guardar_txt(archivo_entrada, archivo_salida)\n",
    "\n",
    "# Enviar archivo TXT a Edge Impulse\n",
    "enviar_a_edgeimpulse(archivo_salida, api_key, etiqueta)\n"
   ]
  }
 ],
 "metadata": {
  "kernelspec": {
   "display_name": "Python 3",
   "language": "python",
   "name": "python3"
  },
  "language_info": {
   "codemirror_mode": {
    "name": "ipython",
    "version": 3
   },
   "file_extension": ".py",
   "mimetype": "text/x-python",
   "name": "python",
   "nbconvert_exporter": "python",
   "pygments_lexer": "ipython3",
   "version": "3.7.12"
  }
 },
 "nbformat": 4,
 "nbformat_minor": 2
}
